{
 "cells": [
  {
   "cell_type": "markdown",
   "metadata": {},
   "source": [
    "# Gen-UI-Kit Example with LangChain and AWS Bedrock\n",
    "\n",
    "In this notebook, we will use the Gen-UI-Kit tool to generate a starter kit for an insurance underwriting app. We'll utilize LangChain's AWS Bedrock integration for LLM inference and parse the structured response using the JsonOutputToolsParser."
   ]
  },
  {
   "cell_type": "code",
   "execution_count": null,
   "metadata": {},
   "outputs": [],
   "source": [
    "#%pip install gen_ui_kit langchain_aws"
   ]
  },
  {
   "cell_type": "code",
   "execution_count": null,
   "metadata": {},
   "outputs": [],
   "source": [
    "from langchain_aws import ChatBedrock\n",
    "from gen_ui_kit import GenUIKit, GenUIKitTools\n",
    "from langchain.output_parsers import JsonOutputToolsParser"
   ]
  },
  {
   "cell_type": "markdown",
   "metadata": {},
   "source": [
    "### Set the inference modifiers and initialize the Bedrock client\n",
    "\n",
    "We'll define the inference modifiers such as `max_tokens`, `temperature`, and other settings to control the behavior of the model."
   ]
  },
  {
   "cell_type": "code",
   "execution_count": null,
   "metadata": {},
   "outputs": [],
   "source": [
    "inference_modifier = {\n",
    "    'max_tokens': 4096, \n",
    "    'temperature': 0.5,\n",
    "    'top_k': 250,\n",
    "    'top_p': 1,\n",
    "    'stop_sequences': ['\\n\\nHuman']\n",
    "}\n",
    "\n",
    "llm = ChatBedrock(\n",
    "    model_id=\"anthropic.claude-3-5-sonnet-20240620-v1:0\", \n",
    "    model_kwargs=inference_modifier\n",
    ")"
   ]
  },
  {
   "cell_type": "markdown",
   "metadata": {},
   "source": [
    "### Set up the output parser and bind the Gen-UI-Kit tool to the LLM\n",
    "\n",
    "We'll use `JsonOutputToolsParser` to parse the tool's structured output and bind the Gen-UI-Kit tool to the LLM."
   ]
  },
  {
   "cell_type": "code",
   "execution_count": null,
   "metadata": {},
   "outputs": [],
   "source": [
    "parser = JsonOutputToolsParser()\n",
    "\n",
    "agent_gen_ui_tool_kit = llm.bind_tools([GenUIKitTools.GenUiKitLangchainTool])\n",
    "chain = agent_gen_ui_tool_kit | parser"
   ]
  },
  {
   "cell_type": "markdown",
   "metadata": {},
   "source": [
    "### Generate the starter kit for the insurance underwriting app idea\n",
    "\n",
    "We'll provide a detailed description of the app and invoke the tool chain to generate the structured response."
   ]
  },
  {
   "cell_type": "code",
   "execution_count": null,
   "metadata": {},
   "outputs": [],
   "source": [
    "structured_response = agent_gen_ui_tool_kit.invoke('''create starter kit for the idea insurance underwriting app. Detailed description about this app followed as below:\n",
    "    An Insurance Underwriting Web App is a digital platform designed to streamline and automate the process of underwriting insurance policies. Underwriting is the process by which insurers assess the risk of insuring a client and decide the terms and pricing of the insurance policy based on the client's risk profile. This web app would serve both insurance companies and underwriters by providing tools to evaluate risks, generate quotes, and manage applications more efficiently.''')\n",
    "\n",
    "input_to_tool = {}\n",
    "if structured_response.content == '':\n",
    "    if structured_response.tool_calls:\n",
    "        structured_response = structured_response.tool_calls[0]['args']\n",
    "        if 'properties' in structured_response:\n",
    "            input_to_tool = structured_response['properties']\n",
    "        else:\n",
    "            input_to_tool = structured_response\n",
    "    else:\n",
    "        print('invalid tool call')\n",
    "else:\n",
    "    print(structured_response.content)"
   ]
  },
  {
   "cell_type": "markdown",
   "metadata": {},
   "source": [
    "### Run the tool using the parsed input\n",
    "\n",
    "We'll initialize the GenUIKit tool using the parsed input and run it with the LLM to generate the UI components."
   ]
  },
  {
   "cell_type": "code",
   "execution_count": null,
   "metadata": {},
   "outputs": [],
   "source": [
    "agent_gen_ui_tool_instance = GenUIKit.GenUiKitLangchainTool(**input_to_tool)\n",
    "\n",
    "agent_gen_ui_tool_instance._run(llm=llm)"
   ]
  },
  {
   "cell_type": "markdown",
   "metadata": {},
   "source": [
    "Once the tool is executed, it will generate a UI kit that can be customized or directly connected to backends or APIs."
   ]
  }
 ],
 "metadata": {
  "kernelspec": {
   "display_name": "Python 3",
   "language": "python",
   "name": "python3"
  },
  "language_info": {
   "codemirror_mode": {
    "name": "ipython",
    "version": 3
   },
   "file_extension": ".py",
   "mimetype": "text/x-python",
   "name": "python",
   "nbconvert_exporter": "python",
   "version": "3.8.10"
  }
 },
 "nbformat": 4,
 "nbformat_minor": 2
}
